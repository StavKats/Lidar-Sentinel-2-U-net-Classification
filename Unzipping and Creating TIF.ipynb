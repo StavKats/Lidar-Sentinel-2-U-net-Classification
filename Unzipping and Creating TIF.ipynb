{
 "cells": [
  {
   "cell_type": "code",
   "execution_count": 1,
   "metadata": {},
   "outputs": [],
   "source": [
    "import os,sys\n",
    "import gdal\n",
    "import subprocess as sub\n",
    "import zipfile\n",
    "import shutil\n",
    "import rasterio"
   ]
  },
  {
   "cell_type": "code",
   "execution_count": 2,
   "metadata": {},
   "outputs": [],
   "source": [
    "############## Unzip files ##############\n",
    "path_to_zipped_files = r'C:\\Users\\Stavros\\Desktop\\Spetses'\n",
    "os.chdir(path_to_zipped_files)\n",
    "\n",
    "for zf in os.listdir(os.getcwd()):\n",
    "    handle = zipfile.ZipFile(zf)\n",
    "    handle.extractall('Unzipped')\n",
    "handle.close()\n",
    "for f in os.listdir('Unzipped'):\n",
    "    with open(\"Unzipped\\\\file_names.txt\", \"a\") as file:\n",
    "        file.write(f+'\\n')\n",
    "############## Find the R, G, B and NIR files ##############\n",
    "band_names = ['B02_10m','B03_10m','B04_10m','B08_10m']\n",
    "new_fold_list = []\n",
    "count = len(band_names) - 1\n",
    "for root, dirs, files in os.walk('Unzipped'):\n",
    "    for file in files:\n",
    "        if file.endswith('.jp2'):\n",
    "            filename, file_extension = os.path.splitext(file)\n",
    "            if filename[-7:] in band_names:\n",
    "                count = count + 1\n",
    "                temp = 'image_'+str(count//len(band_names))\n",
    "                new_folder = 'Unzipped\\\\' + temp\n",
    "                if temp not in new_fold_list:\n",
    "                    new_fold_list.append(temp)\n",
    "                os.makedirs(new_folder,exist_ok=True)\n",
    "                new_filename =  filename + file_extension\n",
    "                shutil.move(os.path.join(root, file), new_folder+'\\\\'+ new_filename)  \n"
   ]
  },
  {
   "cell_type": "code",
   "execution_count": 3,
   "metadata": {},
   "outputs": [],
   "source": [
    "############## Generate .vrt and final tiff images ##############\n",
    "for folder in new_fold_list:\n",
    "    path = path_to_zipped_files + '\\\\Unzipped\\\\' +folder\n",
    "    os.chdir(path)\n",
    "    files = [f for f in os.listdir(path) if f.endswith('.jp2')]\n",
    "    new_name = files[0]\n",
    "    new_name = new_name[7:-12]\n",
    "    print('Processing: ' + new_name +'.tif')\n",
    "    build_vrt = [r'C:\\Program Files\\QGIS 3.10\\OSGeo4W.bat',\n",
    "               'gdalbuildvrt', '-separate',new_name+'.vrt',\n",
    "               '-te', \n",
    "                '708500','4125370','728670', '4139520', # clip extents\n",
    "\n",
    "               files[0],files[1],files[2],files[3]\n",
    "                ]\n",
    "    create_tif = [r'C:\\Program Files\\QGIS 3.10\\OSGeo4W.bat',\n",
    "               'gdal_translate', new_name+'.vrt',new_name+'.tif']\n",
    "\n",
    "    p1 = sub.Popen(build_vrt, stdout=sub.PIPE, stderr=sub.PIPE)\n",
    "    stdout, stderr = p1.communicate()\n",
    "    if p1.returncode != 0:\n",
    "        print(stdout)\n",
    "        print(stderr)\n",
    "\n",
    "    p2 = sub.Popen(create_tif, stdout=sub.PIPE, stderr=sub.PIPE)\n",
    "    stdout, stderr = p2.communicate()\n",
    "    if p2.returncode != 0:\n",
    "        print(stdout)\n",
    "        print(stderr)"
   ]
  }
 ],
 "metadata": {
  "kernelspec": {
   "display_name": "Python 3",
   "language": "python",
   "name": "python3"
  },
  "language_info": {
   "codemirror_mode": {
    "name": "ipython",
    "version": 3
   },
   "file_extension": ".py",
   "mimetype": "text/x-python",
   "name": "python",
   "nbconvert_exporter": "python",
   "pygments_lexer": "ipython3",
   "version": "3.7.4"
  }
 },
 "nbformat": 4,
 "nbformat_minor": 2
}
