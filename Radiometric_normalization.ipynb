{
 "cells": [
  {
   "cell_type": "code",
   "execution_count": null,
   "metadata": {
    "cellView": "form",
    "colab": {
     "base_uri": "https://localhost:8080/",
     "height": 476
    },
    "colab_type": "code",
    "id": "cNDRjB3AzNQ4",
    "outputId": "a34378cf-4e73-4354-f61e-ac2f26d0de96"
   },
   "outputs": [],
   "source": [
    "import rasterio\n",
    "import matplotlib.pyplot as plt\n",
    "import warnings\n",
    "import numpy as np\n",
    "import pandas as pd\n",
    "import os\n",
    "import gdal\n",
    "from sklearn.metrics import mean_squared_error\n",
    "from math import sqrt"
   ]
  },
  {
   "cell_type": "markdown",
   "metadata": {},
   "source": [
    "# Loading Images"
   ]
  },
  {
   "cell_type": "code",
   "execution_count": null,
   "metadata": {
    "cellView": "form",
    "colab": {
     "base_uri": "https://localhost:8080/",
     "height": 51
    },
    "colab_type": "code",
    "id": "MnP30g4Xza_g",
    "outputId": "8b08825f-bb27-4d7d-e26f-8e307f1c3140"
   },
   "outputs": [],
   "source": [
    "ref_path = \"20180819T090551.tif\"\n",
    "sub_path = \"winter_20190106T091351.tif\"\n",
    "ref_im = rasterio.open(ref_path).read()\n",
    "sub_im = rasterio.open(sub_path).read()\n",
    "\n",
    "ref_im = ref_im.astype(float)\n",
    "sub_im = sub_im.astype(float)\n",
    "\n",
    "print(ref_path,ref_im.dtype)\n",
    "print(sub_path,sub_im.dtype)\n",
    "\n",
    "bands = ref_im.shape[0]\n",
    "x_dim = ref_im.shape[1]\n",
    "y_dim = ref_im.shape[2]"
   ]
  },
  {
   "cell_type": "markdown",
   "metadata": {},
   "source": [
    "# Image Normalization"
   ]
  },
  {
   "cell_type": "code",
   "execution_count": null,
   "metadata": {
    "cellView": "form",
    "colab": {
     "base_uri": "https://localhost:8080/",
     "height": 765
    },
    "colab_type": "code",
    "id": "1NEDMUN6YQan",
    "outputId": "dd6fd1a2-2772-4016-d87c-b9ee2cccf474"
   },
   "outputs": [],
   "source": [
    "def normalize(array):\n",
    "  # return (array - array.min()) / (array.max() - array.min())\n",
    "  return (array) / (array.max())\n",
    "\n",
    "def hist_norm(array):\n",
    "    array_min, array_max = np.percentile(array, [1, 99])\n",
    "    return (array - array_min) / (array_max - array_min)\n",
    "\n",
    "for i in range(bands):\n",
    "  temp_ref = ref_im[i,:,:]/10000\n",
    "  temp_ref[temp_ref>1] = 1.0\n",
    "  temp_sub = sub_im[i,:,:]/10000\n",
    "  temp_sub[temp_sub>1] = 1.0\n",
    "  ref_im[i,:,:] = temp_ref\n",
    "  sub_im[i,:,:] = temp_sub\n",
    "    \n",
    "  print(\"--Band \", i+1,\" statistics--\")\n",
    "  print(\"Ref Min: \", ref_im[i].min())\n",
    "  print(\"Ref Max: \", ref_im[i].max())\n",
    "  print(\"Ref Type: \", ref_im.dtype)\n",
    "  print(\"Ref Std: \", np.std(ref_im[i]),\"\\n\")\n",
    "  print(\"Sub Min: \", sub_im[i].min())\n",
    "  print(\"Sub Max: \", sub_im[i].max())\n",
    "  print(\"Sub Type: \", sub_im.dtype)\n",
    "  print(\"Sub Std: \", np.std(sub_im[i]),\"\\n\")\n",
    "  "
   ]
  },
  {
   "cell_type": "code",
   "execution_count": null,
   "metadata": {
    "colab": {
     "base_uri": "https://localhost:8080/",
     "height": 528
    },
    "colab_type": "code",
    "id": "ArT8cL5hT3O5",
    "outputId": "341f24b2-722a-4bfc-881a-ce24e86bd37f"
   },
   "outputs": [],
   "source": [
    "f, axarr = plt.subplots(1,2,figsize=(30,30))\n",
    "# axarr[0].imshow(np.dstack((hist_norm(ref_im[2]),hist_norm(ref_im[1]),hist_norm(ref_im[0]))))\n",
    "# axarr[1].imshow(np.dstack((hist_norm(sub_im[2]),hist_norm(sub_im[1]),hist_norm(sub_im[0]))))\n",
    "axarr[0].imshow(np.dstack((ref_im[2],ref_im[1],ref_im[0])))\n",
    "axarr[1].imshow(np.dstack((sub_im[2],sub_im[1],sub_im[0])))"
   ]
  },
  {
   "cell_type": "markdown",
   "metadata": {},
   "source": [
    "# Calculating AND and ANRD"
   ]
  },
  {
   "cell_type": "code",
   "execution_count": null,
   "metadata": {
    "cellView": "form",
    "colab": {
     "base_uri": "https://localhost:8080/",
     "height": 289
    },
    "colab_type": "code",
    "id": "7Lh6WpPAztwU",
    "outputId": "ddf4a521-b534-4942-89f4-a23076947d3d"
   },
   "outputs": [],
   "source": [
    "k = 2\n",
    "AND= np.zeros((bands,x_dim,y_dim))\n",
    "ANRD = np.zeros((bands, x_dim,y_dim))\n",
    "for j in range(bands):\n",
    "  for x in range(x_dim):\n",
    "    for y in range(y_dim):\n",
    "      refj = ref_im[j,x,y]\n",
    "      subj = sub_im[j,x,y]\n",
    "      refk = ref_im[k,x,y]\n",
    "      subk = sub_im[k,x,y]\n",
    "      AND[j,x,y] = abs(refj-subj) / abs(refj+subj)\n",
    "      ANRD[j,x,y] = abs( (refj/refk) - (subj/subk) ) / abs( (refj/refk) + (subj/subk) )\n",
    "  print(\"Band \", j+1)\n",
    "  print(\"AND std: \", np.std(AND[j]))\n",
    "  print(\"ANRD std: \", np.std(ANRD[j]),\"\\n\")\n",
    "\n",
    "plt.figure(figsize=(20,20))\n",
    "f, axarr = plt.subplots(4,2,figsize=(30,30))\n",
    "for i in range(bands):\n",
    "    axarr[i,0].imshow(AND[i],cmap='gray')\n",
    "    axarr[i,1].imshow(ANRD[i],cmap='gray')\n",
    "plt.show()"
   ]
  },
  {
   "cell_type": "markdown",
   "metadata": {},
   "source": [
    "# Calculating optimal n"
   ]
  },
  {
   "cell_type": "code",
   "execution_count": null,
   "metadata": {
    "cellView": "form",
    "colab": {
     "base_uri": "https://localhost:8080/",
     "height": 119
    },
    "colab_type": "code",
    "id": "USWqnbsyHyiQ",
    "outputId": "a224a938-6298-4d43-9b63-168beacfd89d"
   },
   "outputs": [],
   "source": [
    "AND_threshold = np.empty(bands)\n",
    "ANRD_threshold = np.empty(bands)\n",
    "optimal_n = np.empty(bands)\n",
    "for i in range(bands):\n",
    "    n = 1.0\n",
    "    error = 10\n",
    "    count_list = []\n",
    "    n_list = []\n",
    "    while abs(error) > 1e-1:\n",
    "      AND_threshold[i] = np.linalg.norm(np.min(AND[i]) + np.std(AND[i])/n)\n",
    "      error = AND_threshold[i] - np.linalg.norm(np.min(AND[i]))\n",
    "      count_list.append(len(AND[i][AND[i] <= AND_threshold[i]]))\n",
    "      n_list.append(n)\n",
    "      n += 0.05\n",
    "    #   print(\"-- Error=%.3f  n=%.1f  count=%d --\"%(error,n,len(AND[AND <= AND_threshold])))\n",
    "\n",
    "    #optimal n\n",
    "    with warnings.catch_warnings():\n",
    "      warnings.simplefilter('ignore', np.RankWarning)\n",
    "      log_fit = np.polyfit(count_list, n_list,20) \n",
    "      p = np.poly1d(log_fit)\n",
    "    mean_count = np.average(count_list) # mean count\n",
    "    optimal_n[i] = p(mean_count) \n",
    "    AND_threshold[i] = np.linalg.norm(np.min(AND[i]) + np.std(AND[i])/optimal_n[i])\n",
    "    ANRD_threshold[i] = np.linalg.norm(np.min(ANRD[i]) + np.std(ANRD[i])/optimal_n[i])\n",
    "    if i == 3:\n",
    "        ANRD_threshold[k] = ANRD_threshold[k-1]\n",
    "    with plt.style.context('dark_background'):\n",
    "      plt.figure(figsize=(6,6))\n",
    "      plt.plot(count_list,n_list,'o',color='orange')\n",
    "      plt.plot(count_list,p(count_list))\n",
    "      plt.xlabel(\"Pixel count\")\n",
    "      plt.ylabel(\"n\")\n",
    "    print(\"-- Band \", i+1,\" --\")\n",
    "    print(\"AND threshold value: \",AND_threshold[i],\" ANRD threshold value: \",ANRD_threshold[i],\" Optimal n value : \",optimal_n[i])"
   ]
  },
  {
   "cell_type": "markdown",
   "metadata": {},
   "source": [
    "# Finding Invariant Pixels for each band using the thresholds"
   ]
  },
  {
   "cell_type": "code",
   "execution_count": null,
   "metadata": {
    "cellView": "form",
    "colab": {
     "base_uri": "https://localhost:8080/",
     "height": 85
    },
    "colab_type": "code",
    "id": "VPrX2C9PheG_",
    "outputId": "91e07e0d-346f-47f3-c7b5-90fe4f5d1c9b"
   },
   "outputs": [],
   "source": [
    "IPx = []\n",
    "IPy = []\n",
    "IPref = []\n",
    "IPsub = []\n",
    "IP_im = np.zeros((bands,x_dim,y_dim))\n",
    "for b in range(bands):\n",
    "  tempx = []\n",
    "  tempy = []\n",
    "  temp_ref = []\n",
    "  temp_sub =[]\n",
    "  for x in range(1,x_dim-1):\n",
    "    for y in range(1,y_dim-1):\n",
    "      if (AND[b,x,y] < AND_threshold[b]) and (ANRD[b,x,y] < ANRD_threshold[b]):\n",
    "        if (AND[b,x-1,y-1] < AND_threshold[b]) and(AND[b,x+1,y+1] < AND_threshold[b]):\n",
    "          tempx.append(x)\n",
    "          tempy.append(y)\n",
    "          temp_ref.append(ref_im[b,x,y])\n",
    "          temp_sub.append(sub_im[b,x,y])\n",
    "          IP_im[b,x,y] = 1\n",
    "  IPx.append(tempx)\n",
    "  IPy.append(tempy)\n",
    "  IPref.append(temp_ref)\n",
    "  IPsub.append(temp_sub)\n",
    "\n",
    "f, axarr = plt.subplots(2,2,figsize=(30,23))\n",
    "axarr[0,0].imshow(IP_im[0],cmap='gray')\n",
    "axarr[0,1].imshow(IP_im[1],cmap='gray')\n",
    "axarr[1,0].imshow(IP_im[2],cmap='gray')\n",
    "axarr[1,1].imshow(IP_im[3],cmap='gray')"
   ]
  },
  {
   "cell_type": "code",
   "execution_count": null,
   "metadata": {
    "cellView": "form",
    "colab": {},
    "colab_type": "code",
    "id": "_xPGLtKo5HJs"
   },
   "outputs": [],
   "source": [
    "#Dataframes for each band\n",
    "blue = pd.DataFrame({\n",
    "    \"IPx\": IPx[0],\n",
    "    \"IPy\": IPy[0],\n",
    "    \"Reference Image Value\": IPref[0],\n",
    "    \"Subject Image Value\": IPsub[0]\n",
    "})\n",
    "\n",
    "green = pd.DataFrame({\n",
    "    \"IPx\": IPx[1],\n",
    "    \"IPy\": IPy[1],\n",
    "    \"Reference Image Value\": IPref[1],\n",
    "    \"Subject Image Value\": IPsub[1]\n",
    "})\n",
    "\n",
    "red = pd.DataFrame({\n",
    "    \"IPx\": IPx[2],\n",
    "    \"IPy\": IPy[2],\n",
    "    \"Reference Image Value\": IPref[2],\n",
    "    \"Subject Image Value\": IPsub[2]\n",
    "})\n",
    "\n",
    "nir = pd.DataFrame({\n",
    "    \"IPx\": IPx[3],\n",
    "    \"IPy\": IPy[3],\n",
    "    \"Reference Image Value\": IPref[3],\n",
    "    \"Subject Image Value\": IPsub[3]\n",
    "})\n",
    "df = pd.DataFrame({\n",
    "      \"Bands\": [blue,green,red,nir]\n",
    "    })\n",
    "print(df)\n",
    "df[\"Bands\"][0]\n",
    "# df[\"Bands\"][0], df[\"Bands\"][1], df[\"Bands\"][2], df[\"Bands\"][3]"
   ]
  },
  {
   "cell_type": "markdown",
   "metadata": {},
   "source": [
    "# Regression and DRP implementation"
   ]
  },
  {
   "cell_type": "code",
   "execution_count": null,
   "metadata": {
    "cellView": "form",
    "colab": {
     "base_uri": "https://localhost:8080/",
     "height": 34
    },
    "colab_type": "code",
    "id": "MJbAnS02nDLh",
    "outputId": "e442b6eb-a100-4237-e62d-1f76a4764c89",
    "scrolled": false
   },
   "outputs": [],
   "source": [
    "cb = 0\n",
    "for i in IPx:\n",
    "  cb = cb + 1\n",
    "  print('Number of IPs in Band ',cb,' :',len(i))\n",
    "\n",
    "p_im = []\n",
    "lines_to_drop = []\n",
    "for i in range(bands):\n",
    "  im_fit = np.polyfit(df[\"Bands\"][i][\"Subject Image Value\"],\n",
    "                      df[\"Bands\"][i][\"Reference Image Value\"],\n",
    "                      1)\n",
    "  p_im.append(np.poly1d(im_fit))\n",
    "  print(im_fit)\n",
    "  pred_sub = p_im[i](df[\"Bands\"][i][\"Subject Image Value\"])\n",
    "  df[\"Bands\"][i][\"Predicted\"] = pred_sub\n",
    "  std = np.std(pred_sub)\n",
    "  temp = []\n",
    "  for j in range(len(pred_sub)):\n",
    "    DRP = abs(df[\"Bands\"][i][\"Subject Image Value\"][j] - df[\"Bands\"][i][\"Predicted\"][j])\n",
    "    if DRP > 2*std:\n",
    "      temp.append(j)\n",
    "  lines_to_drop.append(temp)\n",
    "\n",
    "for b in range(bands):\n",
    "    df[\"Bands\"][b] = df[\"Bands\"][b].drop(df[\"Bands\"][b].index[lines_to_drop[b]])\n",
    "    print('IPs dropped for Band ',b+1,' : ',len(lines_to_drop[b]))\n",
    "\n",
    "p_im = []\n",
    "for b in range(bands):\n",
    "  im_fit = np.polyfit(df[\"Bands\"][b][\"Subject Image Value\"],\n",
    "                      df[\"Bands\"][b][\"Reference Image Value\"],\n",
    "                      1)\n",
    "  p_im.append(np.poly1d(im_fit))\n",
    "  print(im_fit)\n",
    "  pred_sub = p_im[b](df[\"Bands\"][b][\"Subject Image Value\"])\n",
    "  df[\"Bands\"][b][\"After_DRP\"] = pred_sub\n",
    "  print(\"Final number of IPs in Band\",b+1,\":\",df[\"Bands\"][b][\"After_DRP\"].shape[0])\n",
    "\n",
    "with plt.style.context('dark_background'):\n",
    "  plt.figure(figsize=(15,15))\n",
    "  for b in range(bands):\n",
    "    ax = plt.subplot(2, 2, b+1)\n",
    "    ax.plot(df[\"Bands\"][b][\"Subject Image Value\"],df[\"Bands\"][b][\"Reference Image Value\"],'o',color='orange',markersize=0.5)\n",
    "    ax.plot(df[\"Bands\"][b][\"Subject Image Value\"],df[\"Bands\"][b][\"After_DRP\"])\n",
    "    plt.xlabel(\"Subject Values\")\n",
    "    plt.ylabel(\"Reference Values\")"
   ]
  },
  {
   "cell_type": "code",
   "execution_count": null,
   "metadata": {},
   "outputs": [],
   "source": [
    "# for i in range(bands):\n",
    "#   print(\"--Band \", i+1,\" statistics--\")\n",
    "#   print(\"Pred Min: \", df[\"Bands\"][i][\"Predicted\"].min())\n",
    "#   print(\"Pred Max: \", df[\"Bands\"][i][\"Predicted\"].max())\n",
    "#   print(\"Pred Std: \", np.std(df[\"Bands\"][i][\"Predicted\"]))\n",
    "#   print(\"After DRP Min: \", df[\"Bands\"][i][\"After_DRP\"].min())\n",
    "#   print(\"After DRP Max: \", df[\"Bands\"][i][\"After_DRP\"].max())\n",
    "#   print(\"After DRP Std: \", np.std(df[\"Bands\"][i][\"After_DRP\"]),\"\\n\")"
   ]
  },
  {
   "cell_type": "markdown",
   "metadata": {},
   "source": [
    "# Calculating RMSE"
   ]
  },
  {
   "cell_type": "code",
   "execution_count": null,
   "metadata": {
    "cellView": "form",
    "colab": {
     "base_uri": "https://localhost:8080/",
     "height": 864
    },
    "colab_type": "code",
    "id": "Qmdox8M6DRg_",
    "outputId": "f8519a48-bf40-4571-8878-26a4b2dc1ee7"
   },
   "outputs": [],
   "source": [
    "_temp = []\n",
    "for i in range(bands):\n",
    "    b = p_im[i][0]\n",
    "    a = p_im[i][1]\n",
    "    temp_sub = (ref_im[i]/a)-b\n",
    "    new_ref = a*temp_sub-b\n",
    "    _temp.append(sqrt(mean_squared_error(ref_im[i], new_ref))/2)\n",
    "\n",
    "df[\"RMSE\"] = _temp\n",
    "df"
   ]
  },
  {
   "cell_type": "markdown",
   "metadata": {},
   "source": [
    "# Constructing new subject image"
   ]
  },
  {
   "cell_type": "code",
   "execution_count": null,
   "metadata": {
    "colab": {},
    "colab_type": "code",
    "id": "mMrR9ta42ISx",
    "scrolled": true
   },
   "outputs": [],
   "source": [
    "new_sub_im = np.empty(sub_im.shape)\n",
    "new_norm_sub_im = np.empty(sub_im.shape)\n",
    "for b in range(bands):\n",
    "  new_sub_im[b] = p_im[b](sub_im[b])\n",
    "  print(\"--Band \", b+1,\" statistics--\")\n",
    "  print(\"Min: \", new_sub_im[b].min())\n",
    "  print(\"Max: \", new_sub_im[b].max())\n",
    "  print(\"Type: \", new_sub_im.dtype)\n",
    "  print(\"Std: \", np.std(new_sub_im[b]),\"\\n\")\n",
    "#   print(\"NEW\")\n",
    "#   print(new_sub_im[b])\n",
    "#   print(\"NORMED\")\n",
    "#   print(new_norm_sub_im[b])\n",
    "#   print(\"OLD\")\n",
    "#   print(sub_im[b])"
   ]
  },
  {
   "cell_type": "code",
   "execution_count": null,
   "metadata": {
    "cellView": "both",
    "colab": {
     "base_uri": "https://localhost:8080/",
     "height": 528
    },
    "colab_type": "code",
    "id": "ngSjkfHVik34",
    "outputId": "acc492f5-5500-46ca-dd47-66d6141f7dc9"
   },
   "outputs": [],
   "source": [
    "r,g,b = (2,1,0)\n",
    "f, axarr = plt.subplots(1,2,figsize=(30,30))\n",
    "axarr[0].imshow(np.dstack((sub_im[r],sub_im[g],sub_im[b])))\n",
    "axarr[1].imshow(np.dstack((new_sub_im[r],new_sub_im[g],new_sub_im[b])))\n",
    "# axarr[0].imshow(np.dstack((hist_norm(sub_im[r]),hist_norm(sub_im[g]),hist_norm(sub_im[b]))))\n",
    "# axarr[1].imshow(np.dstack((hist_norm(new_sub_im[r]),hist_norm(new_sub_im[g]),hist_norm(new_sub_im[b]))))"
   ]
  },
  {
   "cell_type": "code",
   "execution_count": null,
   "metadata": {
    "cellView": "form",
    "colab": {
     "base_uri": "https://localhost:8080/",
     "height": 1000
    },
    "colab_type": "code",
    "id": "gqRiavzWGcC3",
    "outputId": "9ed0a04f-7f8f-40a3-e0d6-6725707fc1f2"
   },
   "outputs": [],
   "source": [
    "#@title Displaying original and result for each band\n",
    "# f, axarr = plt.subplots(4,2,figsize=(30,30))\n",
    "# for i in range(sub_im.shape[0]):\n",
    "#   axarr[i,0].imshow(sub_im[i],cmap='gray')\n",
    "#   axarr[i,1].imshow(new_sub_im[i],cmap='gray')"
   ]
  },
  {
   "cell_type": "markdown",
   "metadata": {},
   "source": [
    "# Exporting new subject image"
   ]
  },
  {
   "cell_type": "code",
   "execution_count": null,
   "metadata": {
    "colab": {
     "base_uri": "https://localhost:8080/",
     "height": 34
    },
    "colab_type": "code",
    "id": "dgaYsTFoNRYn",
    "outputId": "b270da8c-a61a-41b8-f23f-93a27118b0f1"
   },
   "outputs": [],
   "source": [
    "data0 = gdal.Open(\"20180615T090549.tif\")\n",
    "geotrans=data0.GetGeoTransform()\n",
    "proj=data0.GetProjection()\n",
    "temp = np.uint16(np.round(new_sub_im[i]*10000))\n",
    "dst_filename = 'Exports\\\\'+sub_path[:-4] + '--RSE--'+ref_path[:-4]+'.tiff'\n",
    "x_pixels = new_sub_im.shape[2]  # number of pixels in x\n",
    "y_pixels = new_sub_im.shape[1]  # number of pixels in y\n",
    "driver = gdal.GetDriverByName('GTiff')\n",
    "dataset = driver.Create(dst_filename,x_pixels, y_pixels, 4, gdal.GDT_UInt16) # GDT_Float32 GDT_UInt16\n",
    "dataset.GetRasterBand(1).WriteArray(np.uint16(np.round(new_sub_im[0]*10000)))\n",
    "dataset.GetRasterBand(2).WriteArray(np.uint16(np.round(new_sub_im[1]*10000)))\n",
    "dataset.GetRasterBand(3).WriteArray(np.uint16(np.round(new_sub_im[2]*10000)))\n",
    "dataset.GetRasterBand(4).WriteArray(np.uint16(np.round(new_sub_im[3]*10000)))\n",
    "dataset.SetGeoTransform(geotrans)\n",
    "dataset.SetProjection(proj)\n",
    "dataset.FlushCache()\n",
    "dataset=None\n",
    "for i in range(bands):\n",
    "    temp = np.uint16(np.round(new_sub_im[i]*10000))\n",
    "    print(\"--Band \", i+1,\" statistics--\")\n",
    "    print(\"Min: \", temp.min())\n",
    "    print(\"Max: \", temp.max())\n",
    "    print(\"Type: \", temp.dtype)\n",
    "    print(\"Std: \", np.std(temp),\"\\n\")\n",
    "# im = gdal.Open(\"new_20190116T091321--1-nonorm.tiff\",gdal.GDT_UInt16).ReadAsArray()\n",
    "# print(im.max())\n",
    "# np.allclose(im,temp)"
   ]
  },
  {
   "cell_type": "code",
   "execution_count": null,
   "metadata": {},
   "outputs": [],
   "source": [
    "# plt.figure()\n",
    "# plt.imshow(im-np.round(new_sub_im[0]*10000))\n",
    "# np.allclose(im,np.round(new_sub_im[0]*10000))"
   ]
  },
  {
   "cell_type": "code",
   "execution_count": null,
   "metadata": {},
   "outputs": [],
   "source": [
    "gdal.VersionInfo()"
   ]
  },
  {
   "cell_type": "code",
   "execution_count": null,
   "metadata": {},
   "outputs": [],
   "source": [
    "plt.hist(new_sub_im[0].ravel())"
   ]
  },
  {
   "cell_type": "code",
   "execution_count": null,
   "metadata": {},
   "outputs": [],
   "source": [
    "plt.hist(sub_im[0].ravel())"
   ]
  }
 ],
 "metadata": {
  "colab": {
   "collapsed_sections": [],
   "name": "RSE v5(float).ipynb",
   "provenance": []
  },
  "kernelspec": {
   "display_name": "Python 3",
   "language": "python",
   "name": "python3"
  },
  "language_info": {
   "codemirror_mode": {
    "name": "ipython",
    "version": 3
   },
   "file_extension": ".py",
   "mimetype": "text/x-python",
   "name": "python",
   "nbconvert_exporter": "python",
   "pygments_lexer": "ipython3",
   "version": "3.7.4"
  }
 },
 "nbformat": 4,
 "nbformat_minor": 1
}
